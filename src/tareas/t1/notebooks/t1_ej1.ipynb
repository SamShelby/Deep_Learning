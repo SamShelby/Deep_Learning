{
 "cells": [
  {
   "cell_type": "markdown",
   "id": "e46decf8",
   "metadata": {},
   "source": [
    "## Aprendizaje Profundo: Tarea 1 - Ejercicio 1\n",
    "### Samuel López Ruiz\n",
    "---\n",
    "\n",
    "### XNOR \n",
    "La compuerta lógica XNOR está definida por la siguiente tabla de verdad:\n",
    "\n",
    "\n",
    "| x1 | x2 | y |\n",
    "| - | -: | :-: |\n",
    "|0 |0 |1|\n",
    "|0 |1 |0|\n",
    "|1 |0 |0|\n",
    "|1 |1 |1|\n",
    "\n",
    "Esta compuerta se puede definir con base a otras compuertas de la siguiente forma: \n",
    "$$\\text{XNOR}(x_1, x_2)=\\text{OR}(\\text{AND}(x_1, x_2), \\text{NOR}(x_1, x_2))$$"
   ]
  },
  {
   "cell_type": "markdown",
   "id": "79235868",
   "metadata": {},
   "source": [
    " Definición de las funciones escalón y neurona"
   ]
  },
  {
   "cell_type": "code",
   "execution_count": 1,
   "id": "1652af85",
   "metadata": {},
   "outputs": [],
   "source": [
    "import numpy as np\n",
    "from functools import partial\n",
    "\n",
    "X = np.array([[0., 0.], [0., 1.], [1., 0.], [1., 1.]])\n",
    "\n",
    "def test_neuron(neuron, name='OP'):\n",
    "    print('\\n'+name)\n",
    "    print('-----------------------------')\n",
    "    print('x_1 \\tx_2 \\ty_hat')\n",
    "    print('-----------------------------')\n",
    "    for i in range(X.shape[0]):\n",
    "      y_hat = neuron(X[i, :])\n",
    "      print('{0} \\t{1} \\t{2}'.format(X[i, 0], X[i, 1], y_hat))\n",
    "    \n",
    "def escalon(z):\n",
    "    if z >= 0.0:\n",
    "        return 1.0\n",
    "    else:\n",
    "        return 0.0\n",
    "    \n",
    "def neuron(x, w, b):\n",
    "  z = np.dot(w.T, x) + b\n",
    "  a = escalon(z)\n",
    "\n",
    "  return a"
   ]
  },
  {
   "cell_type": "markdown",
   "id": "8139ae8e",
   "metadata": {},
   "source": [
    "Definición de las neuronas equivalentes a las compuertas OR, NOR, AND y XNOR"
   ]
  },
  {
   "cell_type": "code",
   "execution_count": 2,
   "id": "e306b35c",
   "metadata": {},
   "outputs": [
    {
     "name": "stdout",
     "output_type": "stream",
     "text": [
      "\n",
      "AND\n",
      "-----------------------------\n",
      "x_1 \tx_2 \ty_hat\n",
      "-----------------------------\n",
      "0.0 \t0.0 \t0.0\n",
      "0.0 \t1.0 \t0.0\n",
      "1.0 \t0.0 \t0.0\n",
      "1.0 \t1.0 \t1.0\n",
      "\n",
      "OR\n",
      "-----------------------------\n",
      "x_1 \tx_2 \ty_hat\n",
      "-----------------------------\n",
      "0.0 \t0.0 \t0.0\n",
      "0.0 \t1.0 \t1.0\n",
      "1.0 \t0.0 \t1.0\n",
      "1.0 \t1.0 \t1.0\n",
      "\n",
      "NOR\n",
      "-----------------------------\n",
      "x_1 \tx_2 \ty_hat\n",
      "-----------------------------\n",
      "0.0 \t0.0 \t1.0\n",
      "0.0 \t1.0 \t0.0\n",
      "1.0 \t0.0 \t0.0\n",
      "1.0 \t1.0 \t0.0\n",
      "\n",
      "XNOR\n",
      "-----------------------------\n",
      "x_1 \tx_2 \ty_hat\n",
      "-----------------------------\n",
      "0.0 \t0.0 \t1.0\n",
      "0.0 \t1.0 \t0.0\n",
      "1.0 \t0.0 \t0.0\n",
      "1.0 \t1.0 \t1.0\n"
     ]
    }
   ],
   "source": [
    "w_or = np.array([2, 2]).T\n",
    "b_or = -1\n",
    "or_neuron = partial(neuron, w=w_or, b=b_or)\n",
    "\n",
    "w_nor = np.array([-1, -1]).T\n",
    "b_nor = 0\n",
    "nor_neuron = partial(neuron, w=w_nor, b=b_nor)\n",
    "\n",
    "w_and = np.array([1, 1]).T\n",
    "b_and = -2\n",
    "and_neuron = partial(neuron, w=w_and, b=b_and)\n",
    "\n",
    "def xnor_neuron(x):\n",
    "    return or_neuron(np.array([and_neuron(x), nor_neuron(x)]))\n",
    "\n",
    "test_neuron(and_neuron, name='AND')\n",
    "test_neuron(or_neuron, name='OR')\n",
    "test_neuron(nor_neuron, name='NOR')\n",
    "test_neuron(xnor_neuron, name='XNOR')"
   ]
  },
  {
   "cell_type": "markdown",
   "id": "40e809bc",
   "metadata": {
    "pycharm": {
     "name": "#%% md\n"
    }
   },
   "source": [
    "La red de neuronas que simulan la compuerta XNOR se comporta correctamente.\n",
    "\n"
   ]
  }
 ],
 "metadata": {
  "kernelspec": {
   "name": "pycharm-a2cd6d97",
   "language": "python",
   "display_name": "PyCharm (OptimizationAlgorithms)"
  },
  "language_info": {
   "codemirror_mode": {
    "name": "ipython",
    "version": 3
   },
   "file_extension": ".py",
   "mimetype": "text/x-python",
   "name": "python",
   "nbconvert_exporter": "python",
   "pygments_lexer": "ipython3",
   "version": "3.8.8"
  }
 },
 "nbformat": 4,
 "nbformat_minor": 5
}