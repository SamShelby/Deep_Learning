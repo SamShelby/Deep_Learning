{
 "cells": [
  {
   "cell_type": "markdown",
   "id": "780e61ad",
   "metadata": {},
   "source": [
    "## Aprendizaje Profundo: Tarea 1 - Ejercicio 2\n",
    "### Samuel López Ruiz\n",
    "---\n",
    "Programa el algoritmo de retropropagación usando NumPy para una tarea de clasificación binaria\n",
    "presuponiendo una red densa con dos capas ocultas y la función de pérdida de entropía cruzada\n",
    "binaria. Describe las fórmulas y reglas de actualización de los pesos y sesgos de cada capa y entrena\n",
    "y evalúa la red en algún conjunto de datos."
   ]
  },
  {
   "cell_type": "markdown",
   "id": "14c630ca",
   "metadata": {},
   "source": [
    "### Arquitectura \n",
    "La arquitectura de la red neuronal consiste de 2 capas ocultas con funciones de activación sigmoide. La siguiente figure presenta la arquitectura. \n",
    "<img src=\"img\\NN_np.png\"/>"
   ]
  },
  {
   "cell_type": "markdown",
   "id": "32a3dc89",
   "metadata": {},
   "source": [
    "### Nomenclatura\n",
    "- $g()$ funcion de activación de los nodos en capas ocultas\n",
    "- $g_o()$ función de activación de los nodos en la última capa\n",
    "- $k$ numero de capa\n",
    "- $j$ número de neurona\n",
    "- $i$ número de entrada\n",
    "\n",
    "La salida de una neurona está definida por \n",
    "$$o^k_j = g(a^k_j)$$\n",
    "### Pesos\n",
    "Para simplificar los cálculos y la programación, se considera que a los pesos $b$ como una entrada adicional con constante 1. Esto significa que la salida de suma-multiplicación se puede expresar asi:\n",
    "$$a_i^k=b_i^k+\\sum_{j=1}^{r_{k-1}} w^k_{ji}o^{k-1}_j=\\sum_{j=0}^{r_{k-1}} w^k_{ji}o^{k-1}_j$$\n",
    "donde $k$ es el número de la capa, $r_{k}$ son el número de neuronas por capa, $w_{ji}$ es el peso correspondiente a la neurona $j$ y a la entrada $i$ y $o^{k-1}_j$ es la salida después de la función de activación de la neurona $j$ y la capa $k-1$. <br>\n",
    "Notese como cambió la sumantoria de $j=1$ a $j=0$ por la incorporación del peso como una entrada. "
   ]
  },
  {
   "cell_type": "markdown",
   "id": "edd9682e",
   "metadata": {},
   "source": [
    "### Gradiente del Error\n",
    "Para actualizar los pesos (el sesgo ya está incluido en los pesos), es necesario computar el gradiente del error con respecto a cada uno de los pesos. Usando la regla de la cadena, podemos expresar la derivada parcial como:\n",
    "$$\\frac{\\partial E}{\\partial w^k_{ij}} = \\frac{\\partial E}{\\partial a^k_{j}}\\frac{\\partial a^k_j}{\\partial w^k_{ij}}$$\n",
    "Sabemos que $$\\frac{\\partial a^k_j}{\\partial w^k_{ij}} = o^{k-1}_i$$\n",
    "y por convención el gradiente del error con respecto a la entrada se denomina:\n",
    "$$\\delta^k_j=\\frac{\\partial E}{\\partial a^k_{j}}$$\n",
    "\n",
    "Esto nos lleva a la expresión:\n",
    "$$\\frac{\\partial E}{\\partial w^k_{ij}} = \\delta^k_j o^{k-1}_i $$\n",
    "\n",
    "Para la última capa tenemos que el error con respecto a la entrada se puede definir como:\n",
    "$$\\delta^m_1 = g'_0(a_1^m)(\\hat{y}-y)$$\n",
    "donde $g'_0(a_1^m)$ es la derivada de la función de activación de la última capa evaluada en $a^m_1$ y $m$ es la úlitma capa\n",
    "\n",
    "### Gradiente capas intermedias\n",
    "Para las capas intermedias $(1<k<m)$   el error se puede escribir como:\n",
    "$$\\delta^k_j = \\frac{\\partial E}{\\partial a^k_{j}} = \\sum^{r^{k+1}}_{l=1} \\frac{\\partial E}{\\partial a^{k+1}_{l}}\\frac{\\partial a^{k+1}_j}{\\partial a^k_{j}}$$ \n",
    "Como podemos ver, se toma en cuenta el error de la capa siguiente $k+1$. \n",
    "Saltandonos varios pasos se llega a la siguiente expresión:\n",
    "$$\\delta^k_j = g'(a^k_j) \\sum^{r^{k+1}}_{l=1}w^{k+1}_{jl}\\delta^{k+1}_l$$ \n",
    "donde el error de la neurona $j$ en la capa $k$ está en función de la derivada de la función de activación de la neurona evaluada en $a^k_j$ y la suma-producto de los pesos de la siguiente capa y el error de la siguiente capa. <br>\n",
    "De aquí que viene el termino 'retro-propagación' porque para calcular el error de la capa $k$ se tiene que calcular primero el error de la capa $k+1$, lo que significa que el cómputo se realiza del final al inicio. "
   ]
  },
  {
   "cell_type": "markdown",
   "id": "cb620b36",
   "metadata": {},
   "source": [
    "### Selección conveniente de $g()$\n",
    "Sabemos que la derivada de la función de activación sigmoide es:\n",
    "$$g'(x) = \\frac{\\partial \\sigma (x)}{\\partial x} = \\sigma(x)(1-\\sigma(x))$$\n",
    "\n",
    "Y sabemos que:\n",
    "$$o^k_j = g(a^k_j) = \\sigma(a^k_j)$$\n",
    "Esto significa que la ecuación del error para la capas ocultas se puede simplificar de la siguiente forma:\n",
    "$$\\delta^k_j = o^k_j(1-o^k_j) \\sum^{r^{k+1}}_{l=1}w^{k+1}_{jl}\\delta^{k+1}_l$$ \n",
    "\n",
    "Con esta ecuación queda claro que se necesita primero calcular la salida de la capa $o^k_j$ en el 'forward-pass' y también se necesita el error de la siguiente capa $\\delta^{k+1}_l$."
   ]
  },
  {
   "cell_type": "markdown",
   "id": "34c01ee5",
   "metadata": {},
   "source": [
    "### Implementación\n",
    "Primero definimos la función sigmoide, de entropia curzada binaria y de exactitud. "
   ]
  },
  {
   "cell_type": "code",
   "execution_count": 1,
   "id": "69e895d5",
   "metadata": {},
   "outputs": [],
   "source": [
    "import numpy as np\n",
    "\n",
    "def entropia_cruzada_binaria(y, p):\n",
    "    p[p == 0] = np.nextafter(0., 1.)\n",
    "    p[p == 1] = np.nextafter(1., 0.)\n",
    "    return -(np.log(p[y == 1]).sum() + np.log(1 - p[y == 0]).sum())\n",
    "\n",
    "# define the sigmoid function\n",
    "def sigmoid(x):\n",
    "    return 1 / (1 + np.exp(-x))\n",
    "\n",
    "def exactitud(y, y_predicha):\n",
    "    return (y == y_predicha).mean() * 100"
   ]
  },
  {
   "cell_type": "markdown",
   "id": "9d0740a4",
   "metadata": {},
   "source": [
    "A continuación definimos el ciclo de retro-propagación considerando un tamaño de lote. Para calcular el gradiente  utilizando un lote de ejemplos, basta con computar el promedio del gradiente a lo largo de los ejemplos. Es decir:\n",
    "$$\\frac{\\partial E(X,\\Theta)}{\\partial w^k_{ij}} = \\frac{1}{N}\\sum^{N}_{d=1} \\frac{\\partial E_d}{\\partial w^{k}_{ij}}$$ \n",
    "Donde N es el tamaño del lote. "
   ]
  },
  {
   "cell_type": "code",
   "execution_count": 2,
   "id": "050cdb7a",
   "metadata": {},
   "outputs": [],
   "source": [
    "\n",
    "def backpropagation(X, y, num_hidden, batch_size, n_epochs=500, alpha=1):\n",
    "    n_batch = X.shape[0] // batch_size\n",
    "    y_hat = []\n",
    "    \n",
    "    # inicialización de los pesos W1, W2 y W_out dentro del rango (-1, 1)\n",
    "    W1 = 2 * np.random.random((X.shape[1] + 1, num_hidden)) - 1\n",
    "    W2 = 2 * np.random.random((num_hidden + 1, num_hidden)) - 1\n",
    "    W_out = 2 * np.random.random((num_hidden + 1, 1)) - 1\n",
    "      \n",
    "    # variables para guardar la pérdida y la exactitud a lo largo de las epocas\n",
    "    losses = np.zeros((n_epochs))\n",
    "    precisions = np.zeros((n_epochs))\n",
    "    \n",
    "    for i in range(n_epochs):\n",
    "        \n",
    "        for b in range(n_batch):\n",
    "            # tomamos el lote de ejemplos x con su etiqueta y\n",
    "            B = X[b*batch_size:b*batch_size+batch_size, :]\n",
    "            y_batch = y[b*batch_size:b*batch_size+batch_size, :]\n",
    "            \n",
    "            # 'forward-pass' para calcular las salidas de cada capa\n",
    "            # se agrega una columna con entrada 1 para simular el sesgo \n",
    "            a_input = np.hstack((np.ones((B.shape[0], 1)), B))\n",
    "            a_1 = np.hstack((np.ones((B.shape[0], 1)), sigmoid(np.dot(a_input, W1))))\n",
    "            a_2 = np.hstack((np.ones((B.shape[0], 1)), sigmoid(np.dot(a_1, W2))))\n",
    "            a_output = sigmoid(np.dot(a_2, W_out))\n",
    "            y_hat = a_output if b == 0 else np.vstack((y_hat, a_output))\n",
    "            \n",
    "            # fase de retro-propagación \n",
    "            # el gradiente del error con respecto a la última función de activación\n",
    "            output_error = a_output - y_batch\n",
    "            \n",
    "            # el error para cada una de las capas intermedias\n",
    "            # se empieza con la última capa hasta llegar a la primera\n",
    "            error_2 = a_2[:, 1:] * (1 - a_2[:, 1:]) * np.dot(output_error, W_out.T[:, 1:])\n",
    "            error_1 = a_1[:, 1:] * (1 - a_1[:, 1:]) * np.dot(error_2, W2.T[:, 1:])\n",
    "            \n",
    "        \n",
    "            # cálculo de derivadas parciales a lo largo de todos los ejemplos del lote\n",
    "            hidden_pd_1 = a_input[:, :, np.newaxis] * error_1[: , np.newaxis, :]\n",
    "            hidden_pd_2 = a_1[:, :, np.newaxis] * error_2[: , np.newaxis, :]\n",
    "            output_pd = a_2[:, :, np.newaxis] * output_error[:, np.newaxis, :]\n",
    "        \n",
    "            # se calcula el promedio del gardiente a lo largo de los ejemplo \n",
    "            total_gradient_1 = np.average(hidden_pd_1, axis=0)\n",
    "            total_gradient_2 = np.average(hidden_pd_2, axis=0)\n",
    "            total_out_gradient = np.average(output_pd, axis=0)\n",
    "        \n",
    "            # se actualizan los pesos\n",
    "            W1 += - alpha * total_gradient_1\n",
    "            W2 += - alpha * total_gradient_2\n",
    "            W_out += - alpha * total_out_gradient\n",
    "            \n",
    "            \n",
    "        # calcula y guarda la pérdida y exactitud en la época \n",
    "        losses[i] = entropia_cruzada_binaria(y, y_hat)\n",
    "        precisions[i] = exactitud(y, np.round(y_hat))\n",
    "\n",
    "    return losses, precisions, y_hat"
   ]
  },
  {
   "cell_type": "markdown",
   "id": "65644e89",
   "metadata": {},
   "source": [
    "Usamos un set de datos inventados"
   ]
  },
  {
   "cell_type": "code",
   "execution_count": 3,
   "id": "acd61cd3",
   "metadata": {},
   "outputs": [
    {
     "name": "stdout",
     "output_type": "stream",
     "text": [
      "Salida Después de Entrenamiento: \n",
      "[[0.  ]\n",
      " [0.99]\n",
      " [0.99]\n",
      " [0.01]]\n",
      "Precision: \n",
      "100.0\n"
     ]
    },
    {
     "data": {
      "text/plain": "<Figure size 432x288 with 1 Axes>",
      "image/png": "[encoded data removed]"
     },
     "metadata": {
      "needs_background": "light"
     },
     "output_type": "display_data"
    }
   ],
   "source": [
    "# semilla para garantizar replicabilidad\n",
    "np.random.seed(1)\n",
    "\n",
    "\n",
    "# Usamos los datos de la compuerta (XOR)\n",
    "X = np.array([[0, 0], [0, 1], [1, 0], [1, 1]])\n",
    "y = np.array([[0, 1, 1, 0]]).T\n",
    "\n",
    "# utilizamos 500 epocas, 4 neuronas por capa y un lote de 2\n",
    "losses, precisions, y_hat = backpropagation(X, y, num_hidden=5, n_epochs=400, batch_size=2, alpha=1)\n",
    "\n",
    "print(\"Salida Después de Entrenamiento: \\n{}\".format(np.round(y_hat, 2)))\n",
    "print(\"Precision: \\n{}\".format(precisions[-1]))\n",
    "\n",
    "\n",
    "import matplotlib.pyplot as plt\n",
    "plt.plot(np.arange(losses.size), losses, label='ECB')\n",
    "plt.plot(np.arange(precisions.size), precisions, label='Exactitud')\n",
    "plt.legend()\n",
    "plt.grid(True)\n",
    "plt.show()"
   ]
  },
  {
   "cell_type": "markdown",
   "id": "6801c017",
   "metadata": {},
   "source": [
    "Se puede comprobar que la red neuronal fue capaz de aprender la compuerta XOR. El error fue disminuyendo a lo largo de las epocas y la exactitud llegó a 100% antes de la epoca 200."
   ]
  }
 ],
 "metadata": {
  "kernelspec": {
   "name": "pycharm-a2cd6d97",
   "language": "python",
   "display_name": "PyCharm (OptimizationAlgorithms)"
  },
  "language_info": {
   "codemirror_mode": {
    "name": "ipython",
    "version": 3
   },
   "file_extension": ".py",
   "mimetype": "text/x-python",
   "name": "python",
   "nbconvert_exporter": "python",
   "pygments_lexer": "ipython3",
   "version": "3.8.11"
  }
 },
 "nbformat": 4,
 "nbformat_minor": 5
}